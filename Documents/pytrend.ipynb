{
 "cells": [
  {
   "cell_type": "code",
   "execution_count": 3,
   "metadata": {},
   "outputs": [],
   "source": [
    "\n",
    "from pytrends.request import TrendReq \n",
    "import pytrends\n",
    "import pandas as pd\n",
    "import pytz\n",
    "import matplotlib.pyplot as plt"
   ]
  },
  {
   "cell_type": "code",
   "execution_count": 4,
   "metadata": {},
   "outputs": [
    {
     "data": {
      "text/html": [
       "<div>\n",
       "<style scoped>\n",
       "    .dataframe tbody tr th:only-of-type {\n",
       "        vertical-align: middle;\n",
       "    }\n",
       "\n",
       "    .dataframe tbody tr th {\n",
       "        vertical-align: top;\n",
       "    }\n",
       "\n",
       "    .dataframe thead th {\n",
       "        text-align: right;\n",
       "    }\n",
       "</style>\n",
       "<table border=\"1\" class=\"dataframe\">\n",
       "  <thead>\n",
       "    <tr style=\"text-align: right;\">\n",
       "      <th></th>\n",
       "      <th>query</th>\n",
       "      <th>value</th>\n",
       "    </tr>\n",
       "  </thead>\n",
       "  <tbody>\n",
       "    <tr>\n",
       "      <th>0</th>\n",
       "      <td>indian food near me</td>\n",
       "      <td>100</td>\n",
       "    </tr>\n",
       "    <tr>\n",
       "      <th>1</th>\n",
       "      <td>food near me</td>\n",
       "      <td>99</td>\n",
       "    </tr>\n",
       "    <tr>\n",
       "      <th>2</th>\n",
       "      <td>indian restaurant near me</td>\n",
       "      <td>29</td>\n",
       "    </tr>\n",
       "    <tr>\n",
       "      <th>3</th>\n",
       "      <td>2 fat indian</td>\n",
       "      <td>11</td>\n",
       "    </tr>\n",
       "    <tr>\n",
       "      <th>4</th>\n",
       "      <td>chinese food near me</td>\n",
       "      <td>10</td>\n",
       "    </tr>\n",
       "  </tbody>\n",
       "</table>\n",
       "</div>"
      ],
      "text/plain": [
       "                       query  value\n",
       "0        indian food near me    100\n",
       "1               food near me     99\n",
       "2  indian restaurant near me     29\n",
       "3               2 fat indian     11\n",
       "4       chinese food near me     10"
      ]
     },
     "execution_count": 4,
     "metadata": {},
     "output_type": "execute_result"
    }
   ],
   "source": [
    "#tz = pytz.timezone('Australia/Perth')\n",
    "pytrend = TrendReq(hl='en-US', tz=-480)  # initialise TrendReq\n",
    "\n",
    "\n",
    "kw_list = [\"indian food\"]\n",
    "location = 'AU-WA'\n",
    "cat = '0'\n",
    "timeframe = 'now 7-d'\n",
    "pytrend.build_payload(kw_list, cat=cat, timeframe=timeframe, geo=location, gprop='')\n",
    "\n",
    "trends = pytrend.related_queries() # Build pytrends payload and query\n",
    "\n",
    "kwTop = trends[kw_list[0]][\"top\"] # kwTop to store the results of top trends similar to the keyword.\n",
    "kwTop"
   ]
  },
  {
   "cell_type": "code",
   "execution_count": 5,
   "metadata": {},
   "outputs": [
    {
     "data": {
      "text/plain": [
       "['indian food near me', 'indian restaurant near me', '2 fat indian']"
      ]
     },
     "execution_count": 5,
     "metadata": {},
     "output_type": "execute_result"
    }
   ],
   "source": [
    "kw_list_group = []\n",
    "for row in range(len(kwTop)):\n",
    "    search_term = kwTop.loc[row,'query']\n",
    "    accurate_word = \"indian\"\n",
    "    if accurate_word in search_term:\n",
    "        kw_list_group.append(search_term)\n",
    "kw_list_group"
   ]
  },
  {
   "cell_type": "code",
   "execution_count": 6,
   "metadata": {},
   "outputs": [],
   "source": [
    "pytrend.build_payload(kw_list_group, cat=0, timeframe='2017-01-01 2022-12-1', geo='AU-WA', gprop='')\n",
    "pytrend_df = pytrend.interest_over_time()"
   ]
  },
  {
   "cell_type": "code",
   "execution_count": null,
   "metadata": {},
   "outputs": [],
   "source": []
  },
  {
   "cell_type": "code",
   "execution_count": 7,
   "metadata": {},
   "outputs": [],
   "source": [
    "kwIOT_df = pd.DataFrame()\n",
    "\n",
    "for i in range(len(kw_list_group)):\n",
    "    word = kw_list_group[i]\n",
    "    kwIOT = pytrend_df[kw_list_group[i]] # kwTop to store the results of top trends similar to the keyword.\n",
    "    kwIOTi = kwIOT.to_frame()\n",
    "    kwIOT_df = kwIOT_df.append(kwIOTi[word])\n",
    "    "
   ]
  },
  {
   "cell_type": "code",
   "execution_count": 8,
   "metadata": {},
   "outputs": [],
   "source": [
    "kwIOT_df=kwIOT_df.T\n"
   ]
  },
  {
   "cell_type": "code",
   "execution_count": 9,
   "metadata": {},
   "outputs": [],
   "source": [
    "kwIOT_df['total count'] = kwIOT_df[kw_list_group].sum(axis=1)"
   ]
  },
  {
   "cell_type": "code",
   "execution_count": 10,
   "metadata": {},
   "outputs": [
    {
     "data": {
      "text/html": [
       "<div>\n",
       "<style scoped>\n",
       "    .dataframe tbody tr th:only-of-type {\n",
       "        vertical-align: middle;\n",
       "    }\n",
       "\n",
       "    .dataframe tbody tr th {\n",
       "        vertical-align: top;\n",
       "    }\n",
       "\n",
       "    .dataframe thead th {\n",
       "        text-align: right;\n",
       "    }\n",
       "</style>\n",
       "<table border=\"1\" class=\"dataframe\">\n",
       "  <thead>\n",
       "    <tr style=\"text-align: right;\">\n",
       "      <th></th>\n",
       "      <th>indian food near me</th>\n",
       "      <th>indian restaurant near me</th>\n",
       "      <th>2 fat indian</th>\n",
       "      <th>total count</th>\n",
       "    </tr>\n",
       "  </thead>\n",
       "  <tbody>\n",
       "    <tr>\n",
       "      <th>2017-01-01</th>\n",
       "      <td>4.0</td>\n",
       "      <td>32.0</td>\n",
       "      <td>0.0</td>\n",
       "      <td>36.0</td>\n",
       "    </tr>\n",
       "    <tr>\n",
       "      <th>2017-02-01</th>\n",
       "      <td>0.0</td>\n",
       "      <td>23.0</td>\n",
       "      <td>9.0</td>\n",
       "      <td>32.0</td>\n",
       "    </tr>\n",
       "    <tr>\n",
       "      <th>2017-03-01</th>\n",
       "      <td>4.0</td>\n",
       "      <td>22.0</td>\n",
       "      <td>9.0</td>\n",
       "      <td>35.0</td>\n",
       "    </tr>\n",
       "    <tr>\n",
       "      <th>2017-04-01</th>\n",
       "      <td>5.0</td>\n",
       "      <td>39.0</td>\n",
       "      <td>8.0</td>\n",
       "      <td>52.0</td>\n",
       "    </tr>\n",
       "    <tr>\n",
       "      <th>2017-05-01</th>\n",
       "      <td>0.0</td>\n",
       "      <td>42.0</td>\n",
       "      <td>8.0</td>\n",
       "      <td>50.0</td>\n",
       "    </tr>\n",
       "    <tr>\n",
       "      <th>...</th>\n",
       "      <td>...</td>\n",
       "      <td>...</td>\n",
       "      <td>...</td>\n",
       "      <td>...</td>\n",
       "    </tr>\n",
       "    <tr>\n",
       "      <th>2022-08-01</th>\n",
       "      <td>9.0</td>\n",
       "      <td>84.0</td>\n",
       "      <td>21.0</td>\n",
       "      <td>114.0</td>\n",
       "    </tr>\n",
       "    <tr>\n",
       "      <th>2022-09-01</th>\n",
       "      <td>32.0</td>\n",
       "      <td>81.0</td>\n",
       "      <td>17.0</td>\n",
       "      <td>130.0</td>\n",
       "    </tr>\n",
       "    <tr>\n",
       "      <th>2022-10-01</th>\n",
       "      <td>24.0</td>\n",
       "      <td>86.0</td>\n",
       "      <td>13.0</td>\n",
       "      <td>123.0</td>\n",
       "    </tr>\n",
       "    <tr>\n",
       "      <th>2022-11-01</th>\n",
       "      <td>22.0</td>\n",
       "      <td>69.0</td>\n",
       "      <td>13.0</td>\n",
       "      <td>104.0</td>\n",
       "    </tr>\n",
       "    <tr>\n",
       "      <th>2022-12-01</th>\n",
       "      <td>0.0</td>\n",
       "      <td>58.0</td>\n",
       "      <td>0.0</td>\n",
       "      <td>58.0</td>\n",
       "    </tr>\n",
       "  </tbody>\n",
       "</table>\n",
       "<p>72 rows × 4 columns</p>\n",
       "</div>"
      ],
      "text/plain": [
       "            indian food near me  indian restaurant near me  2 fat indian  \\\n",
       "2017-01-01                  4.0                       32.0           0.0   \n",
       "2017-02-01                  0.0                       23.0           9.0   \n",
       "2017-03-01                  4.0                       22.0           9.0   \n",
       "2017-04-01                  5.0                       39.0           8.0   \n",
       "2017-05-01                  0.0                       42.0           8.0   \n",
       "...                         ...                        ...           ...   \n",
       "2022-08-01                  9.0                       84.0          21.0   \n",
       "2022-09-01                 32.0                       81.0          17.0   \n",
       "2022-10-01                 24.0                       86.0          13.0   \n",
       "2022-11-01                 22.0                       69.0          13.0   \n",
       "2022-12-01                  0.0                       58.0           0.0   \n",
       "\n",
       "            total count  \n",
       "2017-01-01         36.0  \n",
       "2017-02-01         32.0  \n",
       "2017-03-01         35.0  \n",
       "2017-04-01         52.0  \n",
       "2017-05-01         50.0  \n",
       "...                 ...  \n",
       "2022-08-01        114.0  \n",
       "2022-09-01        130.0  \n",
       "2022-10-01        123.0  \n",
       "2022-11-01        104.0  \n",
       "2022-12-01         58.0  \n",
       "\n",
       "[72 rows x 4 columns]"
      ]
     },
     "execution_count": 10,
     "metadata": {},
     "output_type": "execute_result"
    }
   ],
   "source": [
    "kwIOT_df"
   ]
  },
  {
   "cell_type": "code",
   "execution_count": 11,
   "metadata": {},
   "outputs": [
    {
     "data": {
      "image/png": "[encoded data removed]",
      "text/plain": [
       "<Figure size 432x288 with 1 Axes>"
      ]
     },
     "metadata": {
      "needs_background": "light"
     },
     "output_type": "display_data"
    }
   ],
   "source": [
    "x = kwIOT_df.index\n",
    "y = kwIOT_df['total count']\n",
    "plt.scatter(x,y)\n",
    "plt.title(\"Related searchs\",fontsize=25)\n",
    "plt.legend(['quantity'], loc='upper center')\n",
    "plt.xlabel('year', fontsize=20)\n",
    "plt.ylabel('total searches', fontsize=20)\n",
    "plt.show()"
   ]
  },
  {
   "cell_type": "code",
   "execution_count": null,
   "metadata": {},
   "outputs": [],
   "source": []
  }
 ],
 "metadata": {
  "kernelspec": {
   "display_name": "PythonData",
   "language": "python",
   "name": "python3"
  },
  "language_info": {
   "codemirror_mode": {
    "name": "ipython",
    "version": 3
   },
   "file_extension": ".py",
   "mimetype": "text/x-python",
   "name": "python",
   "nbconvert_exporter": "python",
   "pygments_lexer": "ipython3",
   "version": "3.7.7 (default, May  6 2020, 11:45:54) [MSC v.1916 64 bit (AMD64)]"
  },
  "orig_nbformat": 4,
  "vscode": {
   "interpreter": {
    "hash": "9b74207641f7cfe5e1ead3ae1581bd121868b10c7388807feecf4dcc1c97c85d"
   }
  }
 },
 "nbformat": 4,
 "nbformat_minor": 2
}
